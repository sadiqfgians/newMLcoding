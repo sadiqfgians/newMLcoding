{
 "cells": [
  {
   "cell_type": "code",
   "execution_count": 2,
   "id": "21442460-0c3c-4a2f-afdb-52a513dc523b",
   "metadata": {},
   "outputs": [
    {
     "name": "stderr",
     "output_type": "stream",
     "text": [
      "2024-12-04 00:32:08,710\tINFO util.py:154 -- Outdated packages:\n",
      "  ipywidgets==7.8.1 found, needs ipywidgets>=8\n",
      "Run `pip install -U ipywidgets`, then restart the notebook server for rich notebook output.\n",
      "2024-12-04 00:32:15,612\tINFO worker.py:1634 -- Connecting to existing Ray cluster at address: 127.0.0.1:6379...\n",
      "2024-12-04 00:32:15,673\tINFO worker.py:1819 -- Connected to Ray cluster.\n"
     ]
    },
    {
     "name": "stdout",
     "output_type": "stream",
     "text": [
      "Fault Tolerance Test: 4 Workers with 1 Failures (over 3 trials)\n",
      "Simulated failure for task: ObjectRef(4482c0d3e15a41a8ffffffffffffffffffffffff0500000001000000)\n",
      "Trial 1: Average R^2 Score after failures: 0.6145\n",
      "Simulated failure for task: ObjectRef(b9a5010f4f40611cffffffffffffffffffffffff0500000001000000)\n"
     ]
    },
    {
     "name": "stderr",
     "output_type": "stream",
     "text": [
      "2024-12-04 00:32:30,854\tERROR worker.py:422 -- Unhandled error (suppress with 'RAY_IGNORE_UNHANDLED_ERRORS=1'): The worker died unexpectedly while executing this task. Check python-core-worker-*.log files for more information.\n"
     ]
    },
    {
     "name": "stdout",
     "output_type": "stream",
     "text": [
      "Trial 2: Average R^2 Score after failures: 0.6129\n",
      "Simulated failure for task: ObjectRef(bbb11aeaabc120eaffffffffffffffffffffffff0500000001000000)\n"
     ]
    },
    {
     "name": "stderr",
     "output_type": "stream",
     "text": [
      "2024-12-04 00:32:36,006\tERROR worker.py:422 -- Unhandled error (suppress with 'RAY_IGNORE_UNHANDLED_ERRORS=1'): The worker died unexpectedly while executing this task. Check python-core-worker-*.log files for more information.\n"
     ]
    },
    {
     "name": "stdout",
     "output_type": "stream",
     "text": [
      "Trial 3: Average R^2 Score after failures: 0.6145\n",
      "Overall Average R^2 Score after failures: 0.6140\n",
      "\n",
      "Fault Tolerance Test: 8 Workers with 2 Failures (over 3 trials)\n",
      "Simulated failure for task: ObjectRef(81a3509f4f3351b2ffffffffffffffffffffffff0500000001000000)\n",
      "Simulated failure for task: ObjectRef(98d7dbefad4deaeaffffffffffffffffffffffff0500000001000000)\n",
      "Trial 1: Average R^2 Score after failures: 0.6386\n",
      "Simulated failure for task: ObjectRef(4aa2f0cdc5f0bbceffffffffffffffffffffffff0500000001000000)\n",
      "Simulated failure for task: ObjectRef(9af1a5dde5f59af2ffffffffffffffffffffffff0500000001000000)\n",
      "Trial 2: Average R^2 Score after failures: 0.6275\n"
     ]
    },
    {
     "name": "stderr",
     "output_type": "stream",
     "text": [
      "2024-12-04 00:32:37,443\tERROR worker.py:422 -- Unhandled error (suppress with 'RAY_IGNORE_UNHANDLED_ERRORS=1'): The worker died unexpectedly while executing this task. Check python-core-worker-*.log files for more information.\n"
     ]
    },
    {
     "name": "stdout",
     "output_type": "stream",
     "text": [
      "Simulated failure for task: ObjectRef(cd38da7afea09ef5ffffffffffffffffffffffff0500000001000000)\n",
      "Simulated failure for task: ObjectRef(f9b2a1b2309c55c2ffffffffffffffffffffffff0500000001000000)\n",
      "Trial 3: Average R^2 Score after failures: 0.6389\n",
      "Overall Average R^2 Score after failures: 0.6350\n",
      "\n",
      "\n",
      "Resource Usage:\n",
      "Total CPU Cores: 12\n",
      "Available CPU Cores: 5.0\n",
      "Total Memory: 7.73 GB\n",
      "Used Memory: 6.63 GB\n"
     ]
    }
   ],
   "source": [
    "import ray\n",
    "import numpy as np\n",
    "from sklearn.linear_model import LinearRegression\n",
    "from sklearn.datasets import fetch_california_housing\n",
    "from sklearn.model_selection import train_test_split\n",
    "import time\n",
    "import psutil\n",
    "\n",
    "# Initialize Ray\n",
    "ray.init(ignore_reinit_error=True, dashboard_port=8265)\n",
    "\n",
    "# Load California Housing Dataset\n",
    "def load_data():\n",
    "    data = fetch_california_housing()\n",
    "    X, y = data.data, data.target\n",
    "    return train_test_split(X, y, test_size=0.2, random_state=42)\n",
    "\n",
    "# Linear regression training function\n",
    "@ray.remote\n",
    "def train_worker(X, y):\n",
    "    model = LinearRegression()\n",
    "    model.fit(X, y)\n",
    "    score = model.score(X, y)  # R^2 score\n",
    "    return score\n",
    "\n",
    "# Fault Tolerance Test with Average Calculation\n",
    "def measure_fault_tolerance(num_workers, num_failures, X_train, y_train, num_trials=5):\n",
    "    print(f\"Fault Tolerance Test: {num_workers} Workers with {num_failures} Failures (over {num_trials} trials)\")\n",
    "\n",
    "    trial_results = []\n",
    "\n",
    "    for trial in range(num_trials):\n",
    "        workers = []\n",
    "        split_X = np.array_split(X_train, num_workers)\n",
    "        split_y = np.array_split(y_train, num_workers)\n",
    "\n",
    "        # Launch workers\n",
    "        for i in range(num_workers):\n",
    "            workers.append(train_worker.remote(split_X[i], split_y[i]))\n",
    "\n",
    "        # Simulate failures\n",
    "        for _ in range(num_failures):\n",
    "            if workers:\n",
    "                failed_worker = workers.pop(np.random.randint(len(workers)))\n",
    "                ray.cancel(failed_worker, force=True)\n",
    "                print(f\"Simulated failure for task: {failed_worker}\")\n",
    "\n",
    "        # Collect results from surviving workers\n",
    "        results = []\n",
    "        for worker in workers:\n",
    "            try:\n",
    "                results.append(ray.get(worker))\n",
    "            except Exception as e:\n",
    "                print(f\"Task {worker} failed with error: {e}\")\n",
    "\n",
    "        if results:\n",
    "            avg_score = np.mean(results)\n",
    "            trial_results.append(avg_score)\n",
    "            print(f\"Trial {trial + 1}: Average R^2 Score after failures: {avg_score:.4f}\")\n",
    "        else:\n",
    "            print(f\"Trial {trial + 1}: No surviving workers completed their tasks.\")\n",
    "            trial_results.append(0)\n",
    "\n",
    "    # Calculate overall average fault tolerance score\n",
    "    overall_avg_score = np.mean(trial_results)\n",
    "    print(f\"Overall Average R^2 Score after failures: {overall_avg_score:.4f}\\n\")\n",
    "    return overall_avg_score\n",
    "\n",
    "# Resource monitoring function\n",
    "def monitor_resource_usage():\n",
    "    total_cores = psutil.cpu_count(logical=True)\n",
    "    available_cores = ray.available_resources().get(\"CPU\", 0)\n",
    "    total_memory = psutil.virtual_memory().total / (1024 ** 3)  # GB\n",
    "    used_memory = (total_memory - psutil.virtual_memory().available / (1024 ** 3))\n",
    "\n",
    "    print(f\"Total CPU Cores: {total_cores}\")\n",
    "    print(f\"Available CPU Cores: {available_cores}\")\n",
    "    print(f\"Total Memory: {total_memory:.2f} GB\")\n",
    "    print(f\"Used Memory: {used_memory:.2f} GB\")\n",
    "\n",
    "# Main execution\n",
    "if __name__ == \"__main__\":\n",
    "    X_train, X_test, y_train, y_test = load_data()\n",
    "\n",
    "    # Test fault tolerance with different configurations\n",
    "    measure_fault_tolerance(num_workers=4, num_failures=1, X_train=X_train, y_train=y_train, num_trials=3)\n",
    "    measure_fault_tolerance(num_workers=8, num_failures=2, X_train=X_train, y_train=y_train, num_trials=3)\n",
    "\n",
    "    # Monitor resource usage\n",
    "    print(\"\\nResource Usage:\")\n",
    "    monitor_resource_usage()\n",
    "\n",
    "    ray.shutdown()\n"
   ]
  },
  {
   "cell_type": "code",
   "execution_count": null,
   "id": "2f412a73-bbcd-4460-bbea-662703675310",
   "metadata": {},
   "outputs": [],
   "source": []
  },
  {
   "cell_type": "code",
   "execution_count": null,
   "id": "49e2a630-728f-408b-acdf-82426d63c512",
   "metadata": {},
   "outputs": [],
   "source": []
  }
 ],
 "metadata": {
  "kernelspec": {
   "display_name": "Python 3 (ipykernel)",
   "language": "python",
   "name": "python3"
  },
  "language_info": {
   "codemirror_mode": {
    "name": "ipython",
    "version": 3
   },
   "file_extension": ".py",
   "mimetype": "text/x-python",
   "name": "python",
   "nbconvert_exporter": "python",
   "pygments_lexer": "ipython3",
   "version": "3.12.4"
  }
 },
 "nbformat": 4,
 "nbformat_minor": 5
}
